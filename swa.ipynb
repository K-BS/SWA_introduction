{
 "cells": [
  {
   "cell_type": "markdown",
   "id": "owned-shooting",
   "metadata": {},
   "source": [
    "# SWA(Stochastic Weight Averaging)"
   ]
  },
  {
   "cell_type": "markdown",
   "id": "latter-vacuum",
   "metadata": {},
   "source": [
    "![캡처1](https://user-images.githubusercontent.com/74411831/129307928-32474f65-f56e-4e9b-99d9-6e2dea49f491.PNG)"
   ]
  },
  {
   "cell_type": "markdown",
   "id": "mature-intermediate",
   "metadata": {},
   "source": [
    "### 요약 : SWA(Stochastic Weight Averaging)는 Test set에서의 성능을 높일 수 있는 유용한 기법이다."
   ]
  },
  {
   "cell_type": "markdown",
   "id": "controlled-jacob",
   "metadata": {},
   "source": [
    "* 논문에서는 SGD(Stochastic Gradient Descent)를 예로 들었지만, 우리의 BaseModel에서 사용되는 AdamW와 일반적으로 널리 사용되는 Adam optimizer에서도 유의미함을 확인.\n",
    "\n",
    "\n",
    "* 논문에서는 Computer Vision 분야에서의 성능 향상을 결과로 보여주지만, 자연어 분야에서도 SWA 기법을 자주 사용하는 것을 확인."
   ]
  },
  {
   "cell_type": "markdown",
   "id": "marine-coverage",
   "metadata": {},
   "source": [
    "![캡처2](https://user-images.githubusercontent.com/74411831/129307936-ceadbd32-5f47-4c46-9e6b-8e82225126da.PNG)"
   ]
  },
  {
   "cell_type": "markdown",
   "id": "spare-champion",
   "metadata": {},
   "source": [
    "어떤 Task라도 구축하는 Model의 목표는 Optimal Minimum을 찾는 것이다. 하지만, 일반적인 Optimizer는 위 그림에서 확인할 수 있듯이, Optimal Minimum의 경계선상에 위치하게 된다. 이들을 평균함으로써 왼쪽 그림처럼 구 모양의 안쪽(Optimal Minimum)에 도달할 수 있게 해준다..!"
   ]
  },
  {
   "cell_type": "markdown",
   "id": "elect-replication",
   "metadata": {},
   "source": [
    "![캡처3](https://user-images.githubusercontent.com/74411831/129307945-8038ba90-f496-4a37-8a78-36590b27ddc3.PNG)"
   ]
  },
  {
   "cell_type": "markdown",
   "id": "crazy-metro",
   "metadata": {},
   "source": [
    "이 방법은 Test dataset에서 더 강한 성능을 보여준다. Train dataset 기준으로는 일반적인 Optimizer보다 성능이 떨어질 수 있지만, Test dataset 기준으로는 더 높은 성능을 가지는 것을 알 수 있다."
   ]
  },
  {
   "cell_type": "markdown",
   "id": "qualified-fifty",
   "metadata": {},
   "source": [
    "우리가 구축할 모델에서도 SWA 기법을 적용하여 더 높은 성능을 이끌어내고자 한다."
   ]
  }
 ],
 "metadata": {
  "kernelspec": {
   "display_name": "Python 3",
   "language": "python",
   "name": "python3"
  },
  "language_info": {
   "codemirror_mode": {
    "name": "ipython",
    "version": 3
   },
   "file_extension": ".py",
   "mimetype": "text/x-python",
   "name": "python",
   "nbconvert_exporter": "python",
   "pygments_lexer": "ipython3",
   "version": "3.7.5"
  }
 },
 "nbformat": 4,
 "nbformat_minor": 5
}
